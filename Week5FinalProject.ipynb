{
  "nbformat": 4,
  "nbformat_minor": 0,
  "metadata": {
    "colab": {
      "name": "Week5FinalProject.ipynb",
      "provenance": [],
      "collapsed_sections": [],
      "authorship_tag": "ABX9TyOKdqWyQFhEwEs/hh3F3hSq"
    },
    "kernelspec": {
      "name": "python3",
      "display_name": "Python 3"
    }
  },
  "cells": [
    {
      "cell_type": "markdown",
      "metadata": {
        "id": "6MmLWIiqR6XM"
      },
      "source": [
        "# Week 5 Final Project"
      ]
    },
    {
      "cell_type": "markdown",
      "metadata": {
        "id": "HCkiYLVNVce-"
      },
      "source": [
        "## 1. Import libraries and set global variables required for the rest of the project."
      ]
    },
    {
      "cell_type": "markdown",
      "metadata": {
        "id": "P5zmDV24WY1F"
      },
      "source": [
        "Import libraries"
      ]
    },
    {
      "cell_type": "code",
      "metadata": {
        "id": "kxsbdaTNREEX",
        "colab": {
          "base_uri": "https://localhost:8080/"
        },
        "outputId": "26637784-0a61-40a9-fb3d-97baaf06b5e4"
      },
      "source": [
        "import pandas as pd\n",
        "import numpy as np\n",
        "pd.set_option('display.max_columns', None)\n",
        "pd.set_option('display.max_rows', None)\n",
        "\n",
        "import json # library to handle JSON files\n",
        "\n",
        "#!conda install -c conda-forge geopy --yes # uncomment this line if you haven't completed the Foursquare API lab\n",
        "from geopy.geocoders import Nominatim # convert an address into latitude and longitude values\n",
        "from geopy import distance\n",
        "\n",
        "import requests # library to handle requests\n",
        "from pandas.io.json import json_normalize # tranform JSON file into a pandas dataframe\n",
        "\n",
        "# Matplotlib and associated plotting modules\n",
        "import matplotlib.cm as cm\n",
        "import matplotlib.colors as colors\n",
        "\n",
        "# import k-means from clustering stage\n",
        "from sklearn.cluster import KMeans\n",
        "\n",
        "#!conda install -c conda-forge folium=0.5.0 --yes # uncomment this line if you haven't completed the Foursquare API lab\n",
        "import folium # map rendering library\n",
        "\n",
        "import branca\n",
        "import branca.colormap as cm\n",
        "\n",
        "print('Libraries imported.')\n",
        "\n",
        "CLIENT_ID = 'MXIL5MGSP25GK0AHGJZIKWMFDN5F43OFVEZLBLGKRYHBAD2A' # your Foursquare ID\n",
        "CLIENT_SECRET = '2H5DFT4NQIODSIG2TT5YJV1RDKGEIPJL2S23W5DFBL1ZH3XX' # your Foursquare Secret\n",
        "VERSION = '20180605' # Foursquare API version\n",
        "LIMIT = 100\n",
        "radius=500"
      ],
      "execution_count": null,
      "outputs": [
        {
          "output_type": "stream",
          "text": [
            "Libraries imported.\n"
          ],
          "name": "stdout"
        }
      ]
    },
    {
      "cell_type": "markdown",
      "metadata": {
        "id": "lGzRru91SKZ4"
      },
      "source": [
        "## 2. Get GeoCodes for Toronto and Montreal"
      ]
    },
    {
      "cell_type": "code",
      "metadata": {
        "id": "TJhjlJdUIu2x"
      },
      "source": [
        "geocodes={'Toronto':[0,0], 'Montreal':[0,0]}\n",
        "\n",
        "address = 'Toronto, Ontario, Canada'\n",
        "geolocator = Nominatim(user_agent=\"explorer\")\n",
        "location = geolocator.geocode(address)\n",
        "geocodes['Toronto'][0] = location.latitude\n",
        "geocodes ['Toronto'][1]= location.longitude\n",
        "\n",
        "address = 'Montreal, Quebec, Canada'\n",
        "location = geolocator.geocode(address)\n",
        "geocodes['Montreal'][0] = location.latitude\n",
        "geocodes ['Montreal'][1]= location.longitude"
      ],
      "execution_count": null,
      "outputs": []
    },
    {
      "cell_type": "code",
      "metadata": {
        "colab": {
          "base_uri": "https://localhost:8080/"
        },
        "id": "40LwMrCdwXY3",
        "outputId": "f476673f-bdff-4334-d497-390b21b786ed"
      },
      "source": [
        "geocodes"
      ],
      "execution_count": null,
      "outputs": [
        {
          "output_type": "execute_result",
          "data": {
            "text/plain": [
              "{'Montreal': [45.4972159, -73.6103642], 'Toronto': [43.6534817, -79.3839347]}"
            ]
          },
          "metadata": {
            "tags": []
          },
          "execution_count": 3
        }
      ]
    },
    {
      "cell_type": "markdown",
      "metadata": {
        "id": "_ypS9FH9UjKu"
      },
      "source": [
        "## 3. Get venues for both Toronto and Montreal using the Foursquare APIs"
      ]
    },
    {
      "cell_type": "markdown",
      "metadata": {
        "id": "4v7drETkUtFr"
      },
      "source": [
        "function to get venues (limited to 100 venues per city due to Foursqaure API constraints for free account)"
      ]
    },
    {
      "cell_type": "code",
      "metadata": {
        "id": "3idV_pYfxXMX"
      },
      "source": [
        "def getNearbyVenues(latitude, longitude, radius=5000):\n",
        "    \n",
        "    venues_list=[]\n",
        "            \n",
        "    # create the API request URL\n",
        "    url = 'https://api.foursquare.com/v2/venues/explore?&client_id={}&client_secret={}&v={}&ll={},{}&radius={}&limit={}'.format(\n",
        "          CLIENT_ID, \n",
        "          CLIENT_SECRET, \n",
        "          VERSION, \n",
        "          latitude, \n",
        "          longitude, \n",
        "          radius, \n",
        "          LIMIT)\n",
        "            \n",
        "    # make the GET request\n",
        "    results = requests.get(url).json()[\"response\"]['groups'][0]['items']\n",
        "        \n",
        "    # return only relevant information for each nearby venue\n",
        "    venues_list.append([(\n",
        "        v['venue']['name'], \n",
        "        v['venue']['location']['lat'], \n",
        "        v['venue']['location']['lng'],  \n",
        "        v['venue']['categories'][0]['name']) for v in results])\n",
        "\n",
        "    nearby_venues = pd.DataFrame([item for venue_list in venues_list for item in venue_list])\n",
        "    nearby_venues.columns = [\n",
        "                  'Venue', \n",
        "                  'Venue Latitude', \n",
        "                  'Venue Longitude', \n",
        "                  'Venue Category']\n",
        "    \n",
        "    return(nearby_venues)"
      ],
      "execution_count": null,
      "outputs": []
    },
    {
      "cell_type": "markdown",
      "metadata": {
        "id": "fISQ7sB4VDke"
      },
      "source": [
        "Call function to get venues for Toronto"
      ]
    },
    {
      "cell_type": "code",
      "metadata": {
        "id": "97i4BarnzucU"
      },
      "source": [
        "toronto_venues = getNearbyVenues(geocodes['Toronto'][0], geocodes['Toronto'][1])"
      ],
      "execution_count": null,
      "outputs": []
    },
    {
      "cell_type": "markdown",
      "metadata": {
        "id": "9EEOv9XEVI0L"
      },
      "source": [
        "Call function to get venues for Montreal"
      ]
    },
    {
      "cell_type": "code",
      "metadata": {
        "id": "sHV5enFL0Xn9"
      },
      "source": [
        "montreal_venues = getNearbyVenues(geocodes['Montreal'][0], geocodes['Montreal'][1])"
      ],
      "execution_count": null,
      "outputs": []
    },
    {
      "cell_type": "markdown",
      "metadata": {
        "id": "uOhu89WqVM5v"
      },
      "source": [
        "## 4. Get the median distance for each venue from other Pizza Places"
      ]
    },
    {
      "cell_type": "markdown",
      "metadata": {
        "id": "rNzvBFLsVUCI"
      },
      "source": [
        "Define function that will iterate through the venues and calculate the median distance between each venue and other Pizza places. Distance is calculated using geo coordinates"
      ]
    },
    {
      "cell_type": "code",
      "metadata": {
        "id": "By_Riv8-1chW"
      },
      "source": [
        "def getMedianDistancefromPizzaPlaces (df_venues):\n",
        "  df_iteration = df_venues.copy()\n",
        "  df_pizza_places = df_iteration[df_iteration['Venue Category'].str.contains(\"Pizza\")]\n",
        "  for index_1, row_1 in df_iteration.iterrows():\n",
        "\n",
        "    location_gps_1 = (row_1['Venue Latitude'], row_1['Venue Longitude'])\n",
        "    \n",
        "    for index, row in df_pizza_places.iterrows():\n",
        "      location_gps_2 = (row['Venue Latitude'], row['Venue Longitude'])\n",
        "      df_iteration.at[index_1,'PizzaDistance'] = distance.distance(location_gps_1, location_gps_2).miles\n",
        "    df_venues.at[index_1,'PizzaDistance'] = df_iteration['PizzaDistance'].median()"
      ],
      "execution_count": null,
      "outputs": []
    },
    {
      "cell_type": "markdown",
      "metadata": {
        "id": "mQwY6abzWCDP"
      },
      "source": [
        "Call function to update the median distance for each venue in Toronto from other Pizza places."
      ]
    },
    {
      "cell_type": "code",
      "metadata": {
        "colab": {
          "base_uri": "https://localhost:8080/"
        },
        "id": "U8kZmsEM1jkp",
        "outputId": "2a56aa60-9800-45b5-d2e1-1b8577368f9e"
      },
      "source": [
        "getMedianDistancefromPizzaPlaces(toronto_venues)\n",
        "toronto_venues['PizzaDistance'].describe()"
      ],
      "execution_count": null,
      "outputs": [
        {
          "output_type": "execute_result",
          "data": {
            "text/plain": [
              "count    100.000000\n",
              "mean       0.915999\n",
              "std        0.049071\n",
              "min        0.668078\n",
              "25%        0.892680\n",
              "50%        0.919178\n",
              "75%        0.951509\n",
              "max        0.980175\n",
              "Name: PizzaDistance, dtype: float64"
            ]
          },
          "metadata": {
            "tags": []
          },
          "execution_count": 8
        }
      ]
    },
    {
      "cell_type": "markdown",
      "metadata": {
        "id": "GVL3q_5QWTk-"
      },
      "source": [
        "Call function to update the median distance for each venue in Montreal from other Pizza places."
      ]
    },
    {
      "cell_type": "code",
      "metadata": {
        "id": "XohZwfcyI9Wd",
        "colab": {
          "base_uri": "https://localhost:8080/"
        },
        "outputId": "811b8a3a-7ec4-4c27-b43a-367357f2edbd"
      },
      "source": [
        "getMedianDistancefromPizzaPlaces(montreal_venues)\n",
        "montreal_venues['PizzaDistance'].describe()"
      ],
      "execution_count": null,
      "outputs": [
        {
          "output_type": "execute_result",
          "data": {
            "text/plain": [
              "count    100.000000\n",
              "mean       1.803250\n",
              "std        0.315099\n",
              "min        1.492180\n",
              "25%        1.542347\n",
              "50%        1.581167\n",
              "75%        1.997232\n",
              "max        2.348751\n",
              "Name: PizzaDistance, dtype: float64"
            ]
          },
          "metadata": {
            "tags": []
          },
          "execution_count": 9
        }
      ]
    },
    {
      "cell_type": "markdown",
      "metadata": {
        "id": "nYRR5Tsf2qrX"
      },
      "source": [
        "Identify the min and max distances to use later in the map scale"
      ]
    },
    {
      "cell_type": "code",
      "metadata": {
        "id": "32G75IoC2qIW"
      },
      "source": [
        "max_dist = np.max([montreal_venues['PizzaDistance'].max(), toronto_venues['PizzaDistance'].max()])\n",
        "min_dist = np.min([montreal_venues['PizzaDistance'].min(), toronto_venues['PizzaDistance'].min()])"
      ],
      "execution_count": null,
      "outputs": []
    },
    {
      "cell_type": "markdown",
      "metadata": {
        "id": "ukpAb_QdWaVP"
      },
      "source": [
        "## 5. Create Maps with gradient color markers based on the median distance"
      ]
    },
    {
      "cell_type": "markdown",
      "metadata": {
        "id": "dahi7EgmWjj6"
      },
      "source": [
        "Bluish colors shows venues where Pizza Places are further away and hence would be good places for the new concept parlors"
      ]
    },
    {
      "cell_type": "markdown",
      "metadata": {
        "id": "IxKCJ9hrW0LA"
      },
      "source": [
        "Create the map for Toronto"
      ]
    },
    {
      "cell_type": "code",
      "metadata": {
        "id": "iPHBGmnZ1zfw"
      },
      "source": [
        "# create map of Manhattan using latitude and longitude values\n",
        "map = folium.Map(location=[geocodes['Toronto'][0], geocodes['Toronto'][1]], zoom_start=13)\n",
        "\n",
        "colormap = cm.LinearColormap(colors=['red', 'blue'], vmin=min_dist, vmax=max_dist)\n",
        "colormap.caption = \"Distance from Pizza Places (miles)\"\n",
        "map.add_child(colormap)\n",
        "\n",
        "# add markers to map\n",
        "for lat, lng, label, p in zip(toronto_venues['Venue Latitude'], toronto_venues['Venue Longitude'], toronto_venues['Venue'], toronto_venues['PizzaDistance']):\n",
        "    label = folium.Popup(label, parse_html=True)\n",
        "    folium.CircleMarker(\n",
        "        [lat, lng],\n",
        "        radius=5,\n",
        "        popup=label,\n",
        "        color=colormap(p),\n",
        "        fill=True,\n",
        "        fill_color=colormap(p),\n",
        "        fill_opacity=1.0,\n",
        "        parse_html=False).add_to(map)\n",
        "map"
      ],
      "execution_count": null,
      "outputs": []
    },
    {
      "cell_type": "markdown",
      "metadata": {
        "id": "yd90VdEvW4EA"
      },
      "source": [
        "Create the map for Montreal"
      ]
    },
    {
      "cell_type": "code",
      "metadata": {
        "id": "zQRYfMKg1oWC"
      },
      "source": [
        "\n",
        "# create map of Manhattan using latitude and longitude values\n",
        "map = folium.Map(location=[geocodes['Montreal'][0], geocodes['Montreal'][1]], zoom_start=13)\n",
        "\n",
        "colormap = cm.LinearColormap(colors=['red', 'blue'], vmin=min_dist, vmax=max_dist)\n",
        "colormap.caption = \"Distance from Pizza Places (miles)\"\n",
        "map.add_child(colormap)\n",
        "\n",
        "# add markers to map\n",
        "for lat, lng, label, p in zip(montreal_venues['Venue Latitude'], montreal_venues['Venue Longitude'], montreal_venues['Venue'], montreal_venues['PizzaDistance']):\n",
        "    label = folium.Popup(label, parse_html=True)\n",
        "    folium.CircleMarker(\n",
        "        [lat, lng],\n",
        "        radius=5,\n",
        "        popup=label,\n",
        "        color=colormap(p),\n",
        "        fill=True,\n",
        "        fill_color=colormap(p),\n",
        "        fill_opacity=1.0,\n",
        "        parse_html=False).add_to(map)  \n",
        "map"
      ],
      "execution_count": null,
      "outputs": []
    }
  ]
}