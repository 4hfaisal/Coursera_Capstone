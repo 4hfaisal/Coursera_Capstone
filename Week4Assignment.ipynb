{
  "nbformat": 4,
  "nbformat_minor": 0,
  "metadata": {
    "colab": {
      "name": "Week4Assignment.ipynb",
      "provenance": [],
      "collapsed_sections": [],
      "authorship_tag": "ABX9TyPXU5GqZfFfr7/S0mEtErSC"
    },
    "kernelspec": {
      "name": "python3",
      "display_name": "Python 3"
    }
  },
  "cells": [
    {
      "cell_type": "markdown",
      "metadata": {
        "id": "jZYb-_h5iZNw"
      },
      "source": [
        "# Business Probelm\n",
        "A company would like to try a new pizza parlors concept . The new concept is to target customers interested in paying a monthly or annual subscription fee and then be able to get any number of pizza slices and drinks from the new pizza parlors. \n",
        "To test the concept, the company would like to place several (3-5) pizza parlors around the city centers of either Toronto or Montreal. Having multiple parlors oppenning all at the same time is crucial to establishing  the brand and give comfort to customers that they can utilize their subscription full if they visitors or dwellers of either of these two city centers.\n",
        "\n",
        "The marketing team is conducting multiple assessments and studies related to this concept and whether Toronto or Montreal would be more suitable for the trail launch.  One assessment that they are interested is to know the concentration of Pizza places in the two cities and potential locations where the new concept parlors can be launched. \n",
        "\n",
        "Further discussion with the marketing team on the statement problem, resulted in the following definition of the problem statement. Identify the city where the median distance between existing food venues and other Pizza places is higher.  Then plot the infomraiton on a map to identify food venues that are farthest from Pizza places where the marketing team hypothesizes that lower competition will allow for better placement of the new concept parlors.\n",
        "\n",
        "**Audience and decision importance:** the marketing team, particularly the marketing manager, is the primary user of the requested analysis. This analysis is part of an overall assessment of the new concept which the Marketing Manager will make the final decision on location to launch the new concept pizza parlors.\n",
        "\n",
        "# Data\n",
        "The Foursqaure API will be used to acquire information about the venues in the city centers of both cities. The two most critical data are:\n",
        "- The **category/type** of the venue: this will allow for filtering the venues to identify Pizza places.\n",
        "- The **geographical coordinates** of the venues (latitude and longitude): these will be used to calculate the distance between each venue and each pizza place and then calculate the median distance.\n",
        "\n",
        "**For example:** venue_a may be close to three pizza places. The geographical coordinates for venue_a and the thee pizza places will be calculated using the geo coordinates and then the median distance will be used as the final distance estimate for venue_a. This  final median distance will be used in further analysis and visualization of median distances of all venues.\n",
        "\n",
        "Finally, the **map data (tilesets)** will be provided using the Folium package. "
      ]
    },
    {
      "cell_type": "code",
      "metadata": {
        "id": "paQn7l28_5p_"
      },
      "source": [
        ""
      ],
      "execution_count": null,
      "outputs": []
    }
  ]
}